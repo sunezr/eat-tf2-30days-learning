{
  "nbformat": 4,
  "nbformat_minor": 0,
  "metadata": {
    "colab": {
      "name": "Day1.ipynb",
      "provenance": [],
      "collapsed_sections": [],
      "mount_file_id": "1wtspKkrv-Zp70XNJ3QpRVubSX409aBqI",
      "authorship_tag": "ABX9TyOMe5Iq2KM7HvRUBzAKg3ED",
      "include_colab_link": true
    },
    "kernelspec": {
      "name": "python3",
      "display_name": "Python 3"
    }
  },
  "cells": [
    {
      "cell_type": "markdown",
      "metadata": {
        "id": "view-in-github",
        "colab_type": "text"
      },
      "source": [
        "<a href=\"https://colab.research.google.com/github/sunezr/eat-tf2-30days-learning/blob/master/Day1.ipynb\" target=\"_parent\"><img src=\"https://colab.research.google.com/assets/colab-badge.svg\" alt=\"Open In Colab\"/></a>"
      ]
    },
    {
      "cell_type": "markdown",
      "metadata": {
        "id": "S5WQW8VSrybP",
        "colab_type": "text"
      },
      "source": [
        "#1-1 结构化数据建模流程范例"
      ]
    },
    {
      "cell_type": "code",
      "metadata": {
        "id": "_xAa1xCpvLsd",
        "colab_type": "code",
        "outputId": "92baf5bb-b2f8-4513-83fc-79d506b28b69",
        "colab": {
          "base_uri": "https://localhost:8080/",
          "height": 34
        }
      },
      "source": [
        "import tensorflow as tf\n",
        "import pandas as pd\n",
        "import numpy as np\n",
        "import matplotlib.pyplot as plt\n",
        "from tensorflow.keras import models, layers\n",
        "%matplotlib inline\n",
        "tf.__version__"
      ],
      "execution_count": 45,
      "outputs": [
        {
          "output_type": "execute_result",
          "data": {
            "text/plain": [
              "'2.2.0-rc2'"
            ]
          },
          "metadata": {
            "tags": []
          },
          "execution_count": 45
        }
      ]
    },
    {
      "cell_type": "code",
      "metadata": {
        "id": "EGhkTZUny2jE",
        "colab_type": "code",
        "colab": {}
      },
      "source": [
        "dftrain_raw = pd.read_csv('/content/drive/My Drive/Colab Notebooks/eat/data/titanic/train.csv')\n",
        "dftest_raw = pd.read_csv('/content/drive/My Drive/Colab Notebooks/eat/data/titanic/test.csv')"
      ],
      "execution_count": 0,
      "outputs": []
    },
    {
      "cell_type": "code",
      "metadata": {
        "id": "n1hwXoNI1EtO",
        "colab_type": "code",
        "colab": {
          "base_uri": "https://localhost:8080/",
          "height": 369
        },
        "outputId": "29131063-bff6-4bef-e2b4-20a9460b30bb"
      },
      "source": [
        "dftrain_raw.head()"
      ],
      "execution_count": 47,
      "outputs": [
        {
          "output_type": "execute_result",
          "data": {
            "text/html": [
              "<div>\n",
              "<style scoped>\n",
              "    .dataframe tbody tr th:only-of-type {\n",
              "        vertical-align: middle;\n",
              "    }\n",
              "\n",
              "    .dataframe tbody tr th {\n",
              "        vertical-align: top;\n",
              "    }\n",
              "\n",
              "    .dataframe thead th {\n",
              "        text-align: right;\n",
              "    }\n",
              "</style>\n",
              "<table border=\"1\" class=\"dataframe\">\n",
              "  <thead>\n",
              "    <tr style=\"text-align: right;\">\n",
              "      <th></th>\n",
              "      <th>PassengerId</th>\n",
              "      <th>Survived</th>\n",
              "      <th>Pclass</th>\n",
              "      <th>Name</th>\n",
              "      <th>Sex</th>\n",
              "      <th>Age</th>\n",
              "      <th>SibSp</th>\n",
              "      <th>Parch</th>\n",
              "      <th>Ticket</th>\n",
              "      <th>Fare</th>\n",
              "      <th>Cabin</th>\n",
              "      <th>Embarked</th>\n",
              "    </tr>\n",
              "  </thead>\n",
              "  <tbody>\n",
              "    <tr>\n",
              "      <th>0</th>\n",
              "      <td>493</td>\n",
              "      <td>0</td>\n",
              "      <td>1</td>\n",
              "      <td>Molson, Mr. Harry Markland</td>\n",
              "      <td>male</td>\n",
              "      <td>55.0</td>\n",
              "      <td>0</td>\n",
              "      <td>0</td>\n",
              "      <td>113787</td>\n",
              "      <td>30.5000</td>\n",
              "      <td>C30</td>\n",
              "      <td>S</td>\n",
              "    </tr>\n",
              "    <tr>\n",
              "      <th>1</th>\n",
              "      <td>53</td>\n",
              "      <td>1</td>\n",
              "      <td>1</td>\n",
              "      <td>Harper, Mrs. Henry Sleeper (Myna Haxtun)</td>\n",
              "      <td>female</td>\n",
              "      <td>49.0</td>\n",
              "      <td>1</td>\n",
              "      <td>0</td>\n",
              "      <td>PC 17572</td>\n",
              "      <td>76.7292</td>\n",
              "      <td>D33</td>\n",
              "      <td>C</td>\n",
              "    </tr>\n",
              "    <tr>\n",
              "      <th>2</th>\n",
              "      <td>388</td>\n",
              "      <td>1</td>\n",
              "      <td>2</td>\n",
              "      <td>Buss, Miss. Kate</td>\n",
              "      <td>female</td>\n",
              "      <td>36.0</td>\n",
              "      <td>0</td>\n",
              "      <td>0</td>\n",
              "      <td>27849</td>\n",
              "      <td>13.0000</td>\n",
              "      <td>NaN</td>\n",
              "      <td>S</td>\n",
              "    </tr>\n",
              "    <tr>\n",
              "      <th>3</th>\n",
              "      <td>192</td>\n",
              "      <td>0</td>\n",
              "      <td>2</td>\n",
              "      <td>Carbines, Mr. William</td>\n",
              "      <td>male</td>\n",
              "      <td>19.0</td>\n",
              "      <td>0</td>\n",
              "      <td>0</td>\n",
              "      <td>28424</td>\n",
              "      <td>13.0000</td>\n",
              "      <td>NaN</td>\n",
              "      <td>S</td>\n",
              "    </tr>\n",
              "    <tr>\n",
              "      <th>4</th>\n",
              "      <td>687</td>\n",
              "      <td>0</td>\n",
              "      <td>3</td>\n",
              "      <td>Panula, Mr. Jaako Arnold</td>\n",
              "      <td>male</td>\n",
              "      <td>14.0</td>\n",
              "      <td>4</td>\n",
              "      <td>1</td>\n",
              "      <td>3101295</td>\n",
              "      <td>39.6875</td>\n",
              "      <td>NaN</td>\n",
              "      <td>S</td>\n",
              "    </tr>\n",
              "  </tbody>\n",
              "</table>\n",
              "</div>"
            ],
            "text/plain": [
              "   PassengerId  Survived  Pclass  ...     Fare Cabin  Embarked\n",
              "0          493         0       1  ...  30.5000   C30         S\n",
              "1           53         1       1  ...  76.7292   D33         C\n",
              "2          388         1       2  ...  13.0000   NaN         S\n",
              "3          192         0       2  ...  13.0000   NaN         S\n",
              "4          687         0       3  ...  39.6875   NaN         S\n",
              "\n",
              "[5 rows x 12 columns]"
            ]
          },
          "metadata": {
            "tags": []
          },
          "execution_count": 47
        }
      ]
    },
    {
      "cell_type": "code",
      "metadata": {
        "id": "5r5dzjim1VmO",
        "colab_type": "code",
        "colab": {
          "base_uri": "https://localhost:8080/",
          "height": 434
        },
        "outputId": "34419a51-e371-4be1-b397-ee4479326084"
      },
      "source": [
        "ax = dftrain_raw['Survived'].value_counts().plot(kind='bar',\n",
        "    figsize = (12, 8), fontsize=15, rot=0)\n",
        "ax.set_ylabel('Counts', fontsize=15)\n",
        "ax.set_xlabel('Survived', fontsize=15)\n",
        "plt.show()"
      ],
      "execution_count": 48,
      "outputs": [
        {
          "output_type": "display_data",
          "data": {
            "image/png": "[encoded data removed]",
            "text/plain": [
              "<Figure size 864x576 with 1 Axes>"
            ]
          },
          "metadata": {
            "tags": [],
            "needs_background": "light"
          }
        }
      ]
    },
    {
      "cell_type": "code",
      "metadata": {
        "id": "5qUqmUXA5Zel",
        "colab_type": "code",
        "colab": {
          "base_uri": "https://localhost:8080/",
          "height": 439
        },
        "outputId": "1d421ade-23d7-4c3d-85d4-9aca9c7b982b"
      },
      "source": [
        "ax = dftrain_raw['Age'].plot(kind='hist', bins=20, color='purple',\n",
        "                            figsize=(12, 8), fontsize=15)\n",
        "ax.set_ylabel('Frequency', fontsize=15)\n",
        "ax.set_xlabel('Age', fontsize=15)\n",
        "plt.show()"
      ],
      "execution_count": 49,
      "outputs": [
        {
          "output_type": "display_data",
          "data": {
            "image/png": "[encoded data removed]",
            "text/plain": [
              "<Figure size 864x576 with 1 Axes>"
            ]
          },
          "metadata": {
            "tags": [],
            "needs_background": "light"
          }
        }
      ]
    },
    {
      "cell_type": "code",
      "metadata": {
        "id": "FaLJxofM4CbZ",
        "colab_type": "code",
        "colab": {
          "base_uri": "https://localhost:8080/",
          "height": 426
        },
        "outputId": "5a082aa8-0695-4ebe-a1da-7e793b1fef1c"
      },
      "source": [
        "ax = dftrain_raw.query('Survived==0')['Age'].plot(kind='density',\n",
        "                        figsize=(12, 8), fontsize=15)\n",
        "dftrain_raw['Age'][dftrain_raw['Survived']==1].plot(kind='density')\n",
        "ax.legend(['Survived=0', 'Survived=1'], fontsize=12)\n",
        "ax.set_ylabel('Density', fontsize=15)\n",
        "ax.set_xlabel('Age', fontsize=15)\n",
        "plt.show()"
      ],
      "execution_count": 50,
      "outputs": [
        {
          "output_type": "display_data",
          "data": {
            "image/png": "[encoded data removed]",
            "text/plain": [
              "<Figure size 864x576 with 1 Axes>"
            ]
          },
          "metadata": {
            "tags": [],
            "needs_background": "light"
          }
        }
      ]
    },
    {
      "cell_type": "code",
      "metadata": {
        "id": "60H-A839E5SS",
        "colab_type": "code",
        "colab": {
          "base_uri": "https://localhost:8080/",
          "height": 70
        },
        "outputId": "4fc39648-7b0b-4d28-bc64-6ce016589d98"
      },
      "source": [
        "dftrain_raw.columns"
      ],
      "execution_count": 51,
      "outputs": [
        {
          "output_type": "execute_result",
          "data": {
            "text/plain": [
              "Index(['PassengerId', 'Survived', 'Pclass', 'Name', 'Sex', 'Age', 'SibSp',\n",
              "       'Parch', 'Ticket', 'Fare', 'Cabin', 'Embarked'],\n",
              "      dtype='object')"
            ]
          },
          "metadata": {
            "tags": []
          },
          "execution_count": 51
        }
      ]
    },
    {
      "cell_type": "code",
      "metadata": {
        "id": "PHpFflH76YKI",
        "colab_type": "code",
        "colab": {}
      },
      "source": [
        "def preprocessing(df):\n",
        "    df_droped = df.drop(columns = ['PassengerId', 'Survived', 'Name', 'Ticket', 'Cabin'])\n",
        "    dfresult = pd.get_dummies(df_droped, \n",
        "            columns=['Pclass', 'Sex', 'Age', 'SibSp',  'Parch', 'Embarked'], dummy_na=True)\n",
        "    return dfresult\n",
        "#preprocessing(dftrain_raw)"
      ],
      "execution_count": 0,
      "outputs": []
    },
    {
      "cell_type": "code",
      "metadata": {
        "id": "xn9-EcXFhuAS",
        "colab_type": "code",
        "colab": {}
      },
      "source": [
        "X_data = pd.concat([dftrain_raw, dftest_raw])\n",
        "X_data_dummy = preprocessing(X_data)"
      ],
      "execution_count": 0,
      "outputs": []
    },
    {
      "cell_type": "code",
      "metadata": {
        "id": "MpYdGzgTE34p",
        "colab_type": "code",
        "colab": {}
      },
      "source": [
        "X_train = X_data_dummy.iloc[: dftrain_raw.shape[0], :]\n",
        "y_train = dftrain_raw['Survived']\n",
        "\n",
        "X_test = X_data_dummy.iloc[dftrain_raw.shape[0]: , :]\n",
        "y_test = dftest_raw['Survived']"
      ],
      "execution_count": 0,
      "outputs": []
    },
    {
      "cell_type": "code",
      "metadata": {
        "id": "rjtdbu4OGbi1",
        "colab_type": "code",
        "colab": {
          "base_uri": "https://localhost:8080/",
          "height": 263
        },
        "outputId": "638c1aa9-cf52-4a95-9468-22858a300ef3"
      },
      "source": [
        "tf.keras.backend.clear_session()\n",
        "\n",
        "model = models.Sequential()\n",
        "model.add(layers.Dense(50, activation='relu', input_shape=(117,)))\n",
        "model.add(layers.Dense(10, activation='relu'))\n",
        "model.add(layers.Dense(1, activation='sigmoid'))\n",
        "\n",
        "model.summary()"
      ],
      "execution_count": 80,
      "outputs": [
        {
          "output_type": "stream",
          "text": [
            "Model: \"sequential\"\n",
            "_________________________________________________________________\n",
            "Layer (type)                 Output Shape              Param #   \n",
            "=================================================================\n",
            "dense (Dense)                (None, 50)                5900      \n",
            "_________________________________________________________________\n",
            "dense_1 (Dense)              (None, 10)                510       \n",
            "_________________________________________________________________\n",
            "dense_2 (Dense)              (None, 1)                 11        \n",
            "=================================================================\n",
            "Total params: 6,421\n",
            "Trainable params: 6,421\n",
            "Non-trainable params: 0\n",
            "_________________________________________________________________\n"
          ],
          "name": "stdout"
        }
      ]
    },
    {
      "cell_type": "markdown",
      "metadata": {
        "id": "I7Rwa23pIbxT",
        "colab_type": "text"
      },
      "source": [
        "### Train model"
      ]
    },
    {
      "cell_type": "code",
      "metadata": {
        "id": "457SqL64H6SJ",
        "colab_type": "code",
        "colab": {
          "base_uri": "https://localhost:8080/",
          "height": 1000
        },
        "outputId": "409017ed-7a68-4736-a905-c3efa09aa87e"
      },
      "source": [
        "model.compile(optimizer='adam',\n",
        "              loss='binary_crossentropy',\n",
        "              metrics=['AUC'])\n",
        "\n",
        "history = model.fit(X_train, y_train,\n",
        "                    batch_size=64,\n",
        "                    epochs=30,\n",
        "                    validation_split=0.2)"
      ],
      "execution_count": 81,
      "outputs": [
        {
          "output_type": "stream",
          "text": [
            "Epoch 1/30\n",
            "9/9 [==============================] - 0s 24ms/step - loss: 0.9436 - auc: 0.6570 - val_loss: 0.7453 - val_auc: 0.5594\n",
            "Epoch 2/30\n",
            "9/9 [==============================] - 0s 7ms/step - loss: 0.7030 - auc: 0.5055 - val_loss: 0.6927 - val_auc: 0.4604\n",
            "Epoch 3/30\n",
            "9/9 [==============================] - 0s 5ms/step - loss: 0.6895 - auc: 0.5379 - val_loss: 0.6857 - val_auc: 0.6326\n",
            "Epoch 4/30\n",
            "9/9 [==============================] - 0s 6ms/step - loss: 0.6796 - auc: 0.6186 - val_loss: 0.6730 - val_auc: 0.7106\n",
            "Epoch 5/30\n",
            "9/9 [==============================] - 0s 6ms/step - loss: 0.6709 - auc: 0.7189 - val_loss: 0.6659 - val_auc: 0.7254\n",
            "Epoch 6/30\n",
            "9/9 [==============================] - 0s 6ms/step - loss: 0.6606 - auc: 0.7523 - val_loss: 0.6569 - val_auc: 0.7439\n",
            "Epoch 7/30\n",
            "9/9 [==============================] - 0s 5ms/step - loss: 0.6512 - auc: 0.7766 - val_loss: 0.6472 - val_auc: 0.7546\n",
            "Epoch 8/30\n",
            "9/9 [==============================] - 0s 6ms/step - loss: 0.6380 - auc: 0.7834 - val_loss: 0.6357 - val_auc: 0.7183\n",
            "Epoch 9/30\n",
            "9/9 [==============================] - 0s 6ms/step - loss: 0.6222 - auc: 0.7815 - val_loss: 0.6202 - val_auc: 0.7349\n",
            "Epoch 10/30\n",
            "9/9 [==============================] - 0s 5ms/step - loss: 0.6047 - auc: 0.8044 - val_loss: 0.6069 - val_auc: 0.7502\n",
            "Epoch 11/30\n",
            "9/9 [==============================] - 0s 5ms/step - loss: 0.5901 - auc: 0.8142 - val_loss: 0.5968 - val_auc: 0.7442\n",
            "Epoch 12/30\n",
            "9/9 [==============================] - 0s 6ms/step - loss: 0.5780 - auc: 0.8228 - val_loss: 0.5908 - val_auc: 0.7486\n",
            "Epoch 13/30\n",
            "9/9 [==============================] - 0s 5ms/step - loss: 0.5680 - auc: 0.8282 - val_loss: 0.5827 - val_auc: 0.7513\n",
            "Epoch 14/30\n",
            "9/9 [==============================] - 0s 5ms/step - loss: 0.5485 - auc: 0.8296 - val_loss: 0.5674 - val_auc: 0.7489\n",
            "Epoch 15/30\n",
            "9/9 [==============================] - 0s 5ms/step - loss: 0.5304 - auc: 0.8384 - val_loss: 0.5591 - val_auc: 0.7519\n",
            "Epoch 16/30\n",
            "9/9 [==============================] - 0s 5ms/step - loss: 0.5160 - auc: 0.8490 - val_loss: 0.5524 - val_auc: 0.7538\n",
            "Epoch 17/30\n",
            "9/9 [==============================] - 0s 5ms/step - loss: 0.5052 - auc: 0.8522 - val_loss: 0.5475 - val_auc: 0.7553\n",
            "Epoch 18/30\n",
            "9/9 [==============================] - 0s 5ms/step - loss: 0.4910 - auc: 0.8579 - val_loss: 0.5435 - val_auc: 0.7584\n",
            "Epoch 19/30\n",
            "9/9 [==============================] - 0s 5ms/step - loss: 0.4779 - auc: 0.8630 - val_loss: 0.5469 - val_auc: 0.7677\n",
            "Epoch 20/30\n",
            "9/9 [==============================] - 0s 5ms/step - loss: 0.4679 - auc: 0.8758 - val_loss: 0.5397 - val_auc: 0.7548\n",
            "Epoch 21/30\n",
            "9/9 [==============================] - 0s 6ms/step - loss: 0.4616 - auc: 0.8702 - val_loss: 0.5394 - val_auc: 0.7703\n",
            "Epoch 22/30\n",
            "9/9 [==============================] - 0s 5ms/step - loss: 0.4542 - auc: 0.8764 - val_loss: 0.5348 - val_auc: 0.7637\n",
            "Epoch 23/30\n",
            "9/9 [==============================] - 0s 5ms/step - loss: 0.4436 - auc: 0.8796 - val_loss: 0.5395 - val_auc: 0.7706\n",
            "Epoch 24/30\n",
            "9/9 [==============================] - 0s 5ms/step - loss: 0.4467 - auc: 0.8810 - val_loss: 0.5366 - val_auc: 0.7603\n",
            "Epoch 25/30\n",
            "9/9 [==============================] - 0s 5ms/step - loss: 0.4416 - auc: 0.8786 - val_loss: 0.5353 - val_auc: 0.7627\n",
            "Epoch 26/30\n",
            "9/9 [==============================] - 0s 5ms/step - loss: 0.4284 - auc: 0.8854 - val_loss: 0.5351 - val_auc: 0.7702\n",
            "Epoch 27/30\n",
            "9/9 [==============================] - 0s 6ms/step - loss: 0.4324 - auc: 0.8832 - val_loss: 0.5473 - val_auc: 0.7666\n",
            "Epoch 28/30\n",
            "9/9 [==============================] - 0s 5ms/step - loss: 0.4328 - auc: 0.8800 - val_loss: 0.5379 - val_auc: 0.7634\n",
            "Epoch 29/30\n",
            "9/9 [==============================] - 0s 5ms/step - loss: 0.4190 - auc: 0.8910 - val_loss: 0.5423 - val_auc: 0.7629\n",
            "Epoch 30/30\n",
            "9/9 [==============================] - 0s 5ms/step - loss: 0.4253 - auc: 0.8816 - val_loss: 0.5773 - val_auc: 0.7529\n"
          ],
          "name": "stdout"
        }
      ]
    },
    {
      "cell_type": "code",
      "metadata": {
        "id": "ITf9R0h1Jpel",
        "colab_type": "code",
        "colab": {}
      },
      "source": [
        "#%config InlineBackend.figure_format = 'svg'\n",
        "\n",
        "def plot_metric(history, metric):\n",
        "  train_metric = history.history[metric]\n",
        "  val_metric = history.history['val_' + metric]\n",
        "  epochs = range(1, len(train_metric) + 1)\n",
        "  plt.plot(epochs, train_metric, 'bo--')\n",
        "  plt.plot(epochs, val_metric, 'ro--')\n",
        "  plt.title('Training and validation' + metric)\n",
        "  plt.xlabel('Epochs')\n",
        "  plt.ylabel(metric)\n",
        "  plt.legend([\"train\" + metric, \"val\" + metric])\n"
      ],
      "execution_count": 0,
      "outputs": []
    },
    {
      "cell_type": "code",
      "metadata": {
        "id": "SJMI6y8JMg0j",
        "colab_type": "code",
        "colab": {
          "base_uri": "https://localhost:8080/",
          "height": 295
        },
        "outputId": "6b21ce6f-2a02-4522-9f36-c24a80e969d9"
      },
      "source": [
        "plot_metric(history, 'loss')"
      ],
      "execution_count": 83,
      "outputs": [
        {
          "output_type": "display_data",
          "data": {
            "image/png": "[encoded data removed]",
            "text/plain": [
              "<Figure size 432x288 with 1 Axes>"
            ]
          },
          "metadata": {
            "tags": [],
            "needs_background": "light"
          }
        }
      ]
    },
    {
      "cell_type": "code",
      "metadata": {
        "id": "Wsu0MnlUMq4K",
        "colab_type": "code",
        "colab": {
          "base_uri": "https://localhost:8080/",
          "height": 295
        },
        "outputId": "502425ec-076b-4916-bf03-41f5e9ccdbb2"
      },
      "source": [
        "plot_metric(history, 'auc')"
      ],
      "execution_count": 84,
      "outputs": [
        {
          "output_type": "display_data",
          "data": {
            "image/png": "[encoded data removed]",
            "text/plain": [
              "<Figure size 432x288 with 1 Axes>"
            ]
          },
          "metadata": {
            "tags": [],
            "needs_background": "light"
          }
        }
      ]
    },
    {
      "cell_type": "markdown",
      "metadata": {
        "id": "PPCoB84ONS7m",
        "colab_type": "text"
      },
      "source": [
        "type(history.history)"
      ]
    },
    {
      "cell_type": "code",
      "metadata": {
        "id": "7HsT_2_hOACK",
        "colab_type": "code",
        "colab": {
          "base_uri": "https://localhost:8080/",
          "height": 52
        },
        "outputId": "067c8ee6-bc11-41e6-d3be-d42a61ebc2f4"
      },
      "source": [
        "model.evaluate(x=X_test, y=y_test)"
      ],
      "execution_count": 86,
      "outputs": [
        {
          "output_type": "stream",
          "text": [
            "6/6 [==============================] - 0s 2ms/step - loss: 0.4553 - auc: 0.8568\n"
          ],
          "name": "stdout"
        },
        {
          "output_type": "execute_result",
          "data": {
            "text/plain": [
              "[0.45534488558769226, 0.8568007946014404]"
            ]
          },
          "metadata": {
            "tags": []
          },
          "execution_count": 86
        }
      ]
    },
    {
      "cell_type": "code",
      "metadata": {
        "id": "A7IWH5i3kGjN",
        "colab_type": "code",
        "colab": {
          "base_uri": "https://localhost:8080/",
          "height": 193
        },
        "outputId": "816db7ef-5c43-4694-f415-81b65aee2eab"
      },
      "source": [
        "model.predict(X_test[0:10])\n",
        "#model(tf.constant(x_test[0:10].values,dtype = tf.float32)) #等价写法"
      ],
      "execution_count": 88,
      "outputs": [
        {
          "output_type": "execute_result",
          "data": {
            "text/plain": [
              "array([[0.3814661 ],\n",
              "       [0.4412765 ],\n",
              "       [0.42228764],\n",
              "       [0.59184   ],\n",
              "       [0.75846124],\n",
              "       [0.5740886 ],\n",
              "       [0.0924699 ],\n",
              "       [0.8662943 ],\n",
              "       [0.17818196],\n",
              "       [0.08902571]], dtype=float32)"
            ]
          },
          "metadata": {
            "tags": []
          },
          "execution_count": 88
        }
      ]
    },
    {
      "cell_type": "code",
      "metadata": {
        "id": "0HhJ5W_GkY1Z",
        "colab_type": "code",
        "colab": {
          "base_uri": "https://localhost:8080/",
          "height": 265
        },
        "outputId": "6a304ebc-fef0-4b67-96a1-c3d4e8a3aa70"
      },
      "source": [
        "model.predict_classes(X_test[0:10])"
      ],
      "execution_count": 90,
      "outputs": [
        {
          "output_type": "stream",
          "text": [
            "WARNING:tensorflow:From <ipython-input-90-70d46c1079f1>:1: Sequential.predict_classes (from tensorflow.python.keras.engine.sequential) is deprecated and will be removed after 2021-01-01.\n",
            "Instructions for updating:\n",
            "Please use instead:* `np.argmax(model.predict(x), axis=-1)`,   if your model does multi-class classification   (e.g. if it uses a `softmax` last-layer activation).* `(model.predict(x) > 0.5).astype(\"int32\")`,   if your model does binary classification   (e.g. if it uses a `sigmoid` last-layer activation).\n"
          ],
          "name": "stdout"
        },
        {
          "output_type": "execute_result",
          "data": {
            "text/plain": [
              "array([[0],\n",
              "       [0],\n",
              "       [0],\n",
              "       [1],\n",
              "       [1],\n",
              "       [1],\n",
              "       [0],\n",
              "       [1],\n",
              "       [0],\n",
              "       [0]], dtype=int32)"
            ]
          },
          "metadata": {
            "tags": []
          },
          "execution_count": 90
        }
      ]
    },
    {
      "cell_type": "code",
      "metadata": {
        "id": "T2sOJO_nkmJn",
        "colab_type": "code",
        "colab": {}
      },
      "source": [
        "# save model\n",
        "model.save('/content/drive/My Drive/Colab Notebooks/eat/keras_model.h5')  "
      ],
      "execution_count": 0,
      "outputs": []
    },
    {
      "cell_type": "code",
      "metadata": {
        "id": "4JDGZTZYk23H",
        "colab_type": "code",
        "colab": {}
      },
      "source": [
        "del model"
      ],
      "execution_count": 0,
      "outputs": []
    },
    {
      "cell_type": "code",
      "metadata": {
        "id": "HlGs-Xj9lFPG",
        "colab_type": "code",
        "colab": {
          "base_uri": "https://localhost:8080/",
          "height": 54
        },
        "outputId": "172e3840-9b22-4938-dc9f-208e4a945a3b"
      },
      "source": [
        "model = models.load_model('/content/drive/My Drive/Colab Notebooks/eat/keras_model.h5')  "
      ],
      "execution_count": 97,
      "outputs": [
        {
          "output_type": "stream",
          "text": [
            "WARNING:tensorflow:Error in loading the saved optimizer state. As a result, your model is starting with a freshly initialized optimizer.\n"
          ],
          "name": "stdout"
        }
      ]
    },
    {
      "cell_type": "code",
      "metadata": {
        "id": "xOhzHLySlGGQ",
        "colab_type": "code",
        "colab": {
          "base_uri": "https://localhost:8080/",
          "height": 52
        },
        "outputId": "9b4aef2f-befb-4c10-c826-e7752453d813"
      },
      "source": [
        "model.evaluate(X_test, y_test)"
      ],
      "execution_count": 109,
      "outputs": [
        {
          "output_type": "stream",
          "text": [
            "6/6 [==============================] - 0s 2ms/step - loss: 0.4553 - auc: 0.8568\n"
          ],
          "name": "stdout"
        },
        {
          "output_type": "execute_result",
          "data": {
            "text/plain": [
              "[0.45534488558769226, 0.8568007946014404]"
            ]
          },
          "metadata": {
            "tags": []
          },
          "execution_count": 109
        }
      ]
    },
    {
      "cell_type": "code",
      "metadata": {
        "id": "16Nnrxc4lVhP",
        "colab_type": "code",
        "colab": {}
      },
      "source": [
        "json_str = model.to_json()\n",
        "model.save_weights('/content/drive/My Drive/Colab Notebooks/eat/keras_model_weight.h5')"
      ],
      "execution_count": 0,
      "outputs": []
    },
    {
      "cell_type": "code",
      "metadata": {
        "id": "EpsUnXNsljHl",
        "colab_type": "code",
        "colab": {}
      },
      "source": [
        "model_json = models.model_from_json(json_str)"
      ],
      "execution_count": 0,
      "outputs": []
    },
    {
      "cell_type": "code",
      "metadata": {
        "id": "Dx4zph5Blqyd",
        "colab_type": "code",
        "colab": {}
      },
      "source": [
        "model_json.compile(\n",
        "        optimizer='adam',\n",
        "        loss='binary_crossentropy',\n",
        "        metrics=['AUC'])"
      ],
      "execution_count": 0,
      "outputs": []
    },
    {
      "cell_type": "code",
      "metadata": {
        "id": "RTsnOmz7lvR5",
        "colab_type": "code",
        "colab": {
          "base_uri": "https://localhost:8080/",
          "height": 52
        },
        "outputId": "6303a121-b047-425e-d674-fa4edf4f4fca"
      },
      "source": [
        "model_json.load_weights('/content/drive/My Drive/Colab Notebooks/eat/keras_model_weight.h5')\n",
        "model_json.evaluate(X_test, y_test)"
      ],
      "execution_count": 113,
      "outputs": [
        {
          "output_type": "stream",
          "text": [
            "6/6 [==============================] - 0s 2ms/step - loss: 0.4553 - auc: 0.8568\n"
          ],
          "name": "stdout"
        },
        {
          "output_type": "execute_result",
          "data": {
            "text/plain": [
              "[0.45534488558769226, 0.8568007946014404]"
            ]
          },
          "metadata": {
            "tags": []
          },
          "execution_count": 113
        }
      ]
    },
    {
      "cell_type": "markdown",
      "metadata": {
        "id": "C8NhPhcVoQGO",
        "colab_type": "text"
      },
      "source": [
        "### save with tf"
      ]
    },
    {
      "cell_type": "code",
      "metadata": {
        "id": "YJqerK-_nDmo",
        "colab_type": "code",
        "colab": {}
      },
      "source": [
        "#保存权重，该方式仅仅保存权重张量\n",
        "model.save_weights('./content/drive/My Drive/Colab Notebooks/eat/tf_model_weight.ckpt', save_format='tf')"
      ],
      "execution_count": 0,
      "outputs": []
    },
    {
      "cell_type": "code",
      "metadata": {
        "id": "fg3ITmaEnxNb",
        "colab_type": "code",
        "colab": {
          "base_uri": "https://localhost:8080/",
          "height": 90
        },
        "outputId": "99ccbc28-749c-4fa3-962d-0858b2999d11"
      },
      "source": [
        "# 保存模型结构与模型参数到文件,该方式保存的模型具有跨平台性便于部署\n",
        "model.save('/content/drive/My Drive/Colab Notebooks/eat/tf_model_savedmodel', save_format=\"tf\")\n",
        "model_loaded = tf.keras.models.load_model('/content/drive/My Drive/Colab Notebooks/eat/tf_model_savedmodel')\n",
        "model_loaded.evaluate(X_test, y_test)"
      ],
      "execution_count": 117,
      "outputs": [
        {
          "output_type": "stream",
          "text": [
            "INFO:tensorflow:Assets written to: /content/drive/My Drive/Colab Notebooks/eat/tf_model_savedmodel/assets\n",
            "6/6 [==============================] - 0s 2ms/step - loss: 0.4553 - auc: 0.8568\n"
          ],
          "name": "stdout"
        },
        {
          "output_type": "execute_result",
          "data": {
            "text/plain": [
              "[0.45534488558769226, 0.8568007946014404]"
            ]
          },
          "metadata": {
            "tags": []
          },
          "execution_count": 117
        }
      ]
    },
    {
      "cell_type": "code",
      "metadata": {
        "id": "4cYFshferR-R",
        "colab_type": "code",
        "colab": {}
      },
      "source": [
        ""
      ],
      "execution_count": 0,
      "outputs": []
    }
  ]
}